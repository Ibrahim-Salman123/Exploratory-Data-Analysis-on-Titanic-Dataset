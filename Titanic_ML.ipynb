{
 "cells": [
  {
   "cell_type": "code",
   "execution_count": 84,
   "id": "67b2ed09",
   "metadata": {},
   "outputs": [],
   "source": [
    "import pandas as pd\n",
    "import seaborn as sns\n",
    "import matplotlib.pyplot as plt"
   ]
  },
  {
   "cell_type": "code",
   "execution_count": 91,
   "id": "36444a66",
   "metadata": {},
   "outputs": [
    {
     "data": {
      "application/vnd.microsoft.datawrangler.viewer.v0+json": {
       "columns": [
        {
         "name": "index",
         "rawType": "int64",
         "type": "integer"
        },
        {
         "name": "PassengerId",
         "rawType": "int64",
         "type": "integer"
        },
        {
         "name": "Survived",
         "rawType": "int64",
         "type": "integer"
        }
       ],
       "ref": "2b84e250-43e8-4c51-8742-9849cfb3dd5d",
       "rows": [
        [
         "0",
         "892",
         "0"
        ],
        [
         "1",
         "893",
         "1"
        ],
        [
         "2",
         "894",
         "0"
        ],
        [
         "3",
         "895",
         "0"
        ],
        [
         "4",
         "896",
         "1"
        ],
        [
         "5",
         "897",
         "0"
        ],
        [
         "6",
         "898",
         "1"
        ],
        [
         "7",
         "899",
         "0"
        ],
        [
         "8",
         "900",
         "1"
        ],
        [
         "9",
         "901",
         "0"
        ],
        [
         "10",
         "902",
         "0"
        ],
        [
         "11",
         "903",
         "0"
        ],
        [
         "12",
         "904",
         "1"
        ],
        [
         "13",
         "905",
         "0"
        ],
        [
         "14",
         "906",
         "1"
        ],
        [
         "15",
         "907",
         "1"
        ],
        [
         "16",
         "908",
         "0"
        ],
        [
         "17",
         "909",
         "0"
        ],
        [
         "18",
         "910",
         "1"
        ],
        [
         "19",
         "911",
         "1"
        ],
        [
         "20",
         "912",
         "0"
        ],
        [
         "21",
         "913",
         "0"
        ],
        [
         "22",
         "914",
         "1"
        ],
        [
         "23",
         "915",
         "0"
        ],
        [
         "24",
         "916",
         "1"
        ],
        [
         "25",
         "917",
         "0"
        ],
        [
         "26",
         "918",
         "1"
        ],
        [
         "27",
         "919",
         "0"
        ],
        [
         "28",
         "920",
         "0"
        ],
        [
         "29",
         "921",
         "0"
        ],
        [
         "30",
         "922",
         "0"
        ],
        [
         "31",
         "923",
         "0"
        ],
        [
         "32",
         "924",
         "1"
        ],
        [
         "33",
         "925",
         "1"
        ],
        [
         "34",
         "926",
         "0"
        ],
        [
         "35",
         "927",
         "0"
        ],
        [
         "36",
         "928",
         "1"
        ],
        [
         "37",
         "929",
         "1"
        ],
        [
         "38",
         "930",
         "0"
        ],
        [
         "39",
         "931",
         "0"
        ],
        [
         "40",
         "932",
         "0"
        ],
        [
         "41",
         "933",
         "0"
        ],
        [
         "42",
         "934",
         "0"
        ],
        [
         "43",
         "935",
         "1"
        ],
        [
         "44",
         "936",
         "1"
        ],
        [
         "45",
         "937",
         "0"
        ],
        [
         "46",
         "938",
         "0"
        ],
        [
         "47",
         "939",
         "0"
        ],
        [
         "48",
         "940",
         "1"
        ],
        [
         "49",
         "941",
         "1"
        ]
       ],
       "shape": {
        "columns": 2,
        "rows": 418
       }
      },
      "text/html": [
       "<div>\n",
       "<style scoped>\n",
       "    .dataframe tbody tr th:only-of-type {\n",
       "        vertical-align: middle;\n",
       "    }\n",
       "\n",
       "    .dataframe tbody tr th {\n",
       "        vertical-align: top;\n",
       "    }\n",
       "\n",
       "    .dataframe thead th {\n",
       "        text-align: right;\n",
       "    }\n",
       "</style>\n",
       "<table border=\"1\" class=\"dataframe\">\n",
       "  <thead>\n",
       "    <tr style=\"text-align: right;\">\n",
       "      <th></th>\n",
       "      <th>PassengerId</th>\n",
       "      <th>Survived</th>\n",
       "    </tr>\n",
       "  </thead>\n",
       "  <tbody>\n",
       "    <tr>\n",
       "      <th>0</th>\n",
       "      <td>892</td>\n",
       "      <td>0</td>\n",
       "    </tr>\n",
       "    <tr>\n",
       "      <th>1</th>\n",
       "      <td>893</td>\n",
       "      <td>1</td>\n",
       "    </tr>\n",
       "    <tr>\n",
       "      <th>2</th>\n",
       "      <td>894</td>\n",
       "      <td>0</td>\n",
       "    </tr>\n",
       "    <tr>\n",
       "      <th>3</th>\n",
       "      <td>895</td>\n",
       "      <td>0</td>\n",
       "    </tr>\n",
       "    <tr>\n",
       "      <th>4</th>\n",
       "      <td>896</td>\n",
       "      <td>1</td>\n",
       "    </tr>\n",
       "    <tr>\n",
       "      <th>...</th>\n",
       "      <td>...</td>\n",
       "      <td>...</td>\n",
       "    </tr>\n",
       "    <tr>\n",
       "      <th>413</th>\n",
       "      <td>1305</td>\n",
       "      <td>0</td>\n",
       "    </tr>\n",
       "    <tr>\n",
       "      <th>414</th>\n",
       "      <td>1306</td>\n",
       "      <td>1</td>\n",
       "    </tr>\n",
       "    <tr>\n",
       "      <th>415</th>\n",
       "      <td>1307</td>\n",
       "      <td>0</td>\n",
       "    </tr>\n",
       "    <tr>\n",
       "      <th>416</th>\n",
       "      <td>1308</td>\n",
       "      <td>0</td>\n",
       "    </tr>\n",
       "    <tr>\n",
       "      <th>417</th>\n",
       "      <td>1309</td>\n",
       "      <td>0</td>\n",
       "    </tr>\n",
       "  </tbody>\n",
       "</table>\n",
       "<p>418 rows × 2 columns</p>\n",
       "</div>"
      ],
      "text/plain": [
       "     PassengerId  Survived\n",
       "0            892         0\n",
       "1            893         1\n",
       "2            894         0\n",
       "3            895         0\n",
       "4            896         1\n",
       "..           ...       ...\n",
       "413         1305         0\n",
       "414         1306         1\n",
       "415         1307         0\n",
       "416         1308         0\n",
       "417         1309         0\n",
       "\n",
       "[418 rows x 2 columns]"
      ]
     },
     "execution_count": 91,
     "metadata": {},
     "output_type": "execute_result"
    }
   ],
   "source": [
    "df = pd.read_csv(\"Titanic Machine Learning from Disaster.csv\")\n",
    "df"
   ]
  },
  {
   "cell_type": "code",
   "execution_count": 105,
   "id": "1a8e0926",
   "metadata": {},
   "outputs": [
    {
     "name": "stdout",
     "output_type": "stream",
     "text": [
      "Dataset Shape: (418, 2)\n",
      "\n",
      "Data Types:\n",
      " PassengerId    int64\n",
      "Survived       int64\n",
      "dtype: object\n",
      "<class 'pandas.core.frame.DataFrame'>\n",
      "RangeIndex: 418 entries, 0 to 417\n",
      "Data columns (total 2 columns):\n",
      " #   Column       Non-Null Count  Dtype\n",
      "---  ------       --------------  -----\n",
      " 0   PassengerId  418 non-null    int64\n",
      " 1   Survived     418 non-null    int64\n",
      "dtypes: int64(2)\n",
      "memory usage: 6.7 KB\n",
      "\n",
      "df.info:\n",
      " None\n",
      "\n",
      "Missing Values:\n",
      " PassengerId    0\n",
      "Survived       0\n",
      "dtype: int64\n"
     ]
    }
   ],
   "source": [
    "print(\"Dataset Shape:\", df.shape)\n",
    "print(\"\\nData Types:\\n\", df.dtypes)\n",
    "print('\\ndf.info:\\n',df.info())\n",
    "print(\"\\nMissing Values:\\n\", df.isnull().sum())"
   ]
  },
  {
   "cell_type": "code",
   "execution_count": 87,
   "id": "14c75a77",
   "metadata": {},
   "outputs": [],
   "source": [
    "df['Survived'] = df['Survived'].astype('category')"
   ]
  },
  {
   "cell_type": "code",
   "execution_count": 88,
   "id": "c6c38252",
   "metadata": {},
   "outputs": [
    {
     "name": "stdout",
     "output_type": "stream",
     "text": [
      "\n",
      "Summary Statistics:\n",
      "         PassengerId  Survived\n",
      "count    418.000000     418.0\n",
      "unique          NaN       2.0\n",
      "top             NaN       0.0\n",
      "freq            NaN     266.0\n",
      "mean    1100.500000       NaN\n",
      "std      120.810458       NaN\n",
      "min      892.000000       NaN\n",
      "25%      996.250000       NaN\n",
      "50%     1100.500000       NaN\n",
      "75%     1204.750000       NaN\n",
      "max     1309.000000       NaN\n"
     ]
    }
   ],
   "source": [
    "\n",
    "if 'Age' in df.columns:\n",
    "    df['Age'] = df['Age'].fillna(df['Age'].median())\n",
    "\n",
    "if 'Embarked' in df.columns:\n",
    "    df['Embarked'] = df['Embarked'].fillna(df['Embarked'].mode()[0])\n",
    "\n",
    "if 'Fare' in df.columns:\n",
    "    df['Fare'] = df['Fare'].fillna(df['Fare'].median())\n",
    "\n",
    "# 4. Summary Statistics\n",
    "print(\"\\nSummary Statistics:\\n\", df.describe(include='all'))\n"
   ]
  },
  {
   "cell_type": "code",
   "execution_count": 89,
   "id": "9e291569",
   "metadata": {},
   "outputs": [],
   "source": [
    "if 'Sex' in df.columns and 'Pclass' in df.columns:\n",
    "    survival_by_gender = df.groupby('Sex')['Survived'].mean() * 100\n",
    "    survival_by_class = df.groupby('Pclass')['Survived'].mean() * 100\n",
    "    print(\"\\nSurvival Rate by Gender (%):\\n\", survival_by_gender)\n",
    "    print(\"\\nSurvival Rate by Class (%):\\n\", survival_by_class)"
   ]
  },
  {
   "cell_type": "code",
   "execution_count": 92,
   "id": "86c1285d",
   "metadata": {},
   "outputs": [
    {
     "name": "stdout",
     "output_type": "stream",
     "text": [
      "\n",
      "Overall Survival Rate: 152.00%\n"
     ]
    }
   ],
   "source": [
    "overall_survival_rate = df['Survived'].mean() * 418\n",
    "print(f\"\\nOverall Survival Rate: {overall_survival_rate:.2f}%\")"
   ]
  },
  {
   "cell_type": "code",
   "execution_count": 93,
   "id": "ed6df1b2",
   "metadata": {},
   "outputs": [],
   "source": [
    "sns.set(style=\"whitegrid\")"
   ]
  },
  {
   "cell_type": "code",
   "execution_count": 104,
   "id": "acf2f47e",
   "metadata": {},
   "outputs": [
    {
     "data": {
      "image/png": "[encoded data removed]",
      "text/plain": [
       "<Figure size 640x480 with 1 Axes>"
      ]
     },
     "metadata": {},
     "output_type": "display_data"
    }
   ],
   "source": [
    "sns.countplot(data=df, x='Survived', hue='Survived', palette='pastel', legend=False)\n",
    "plt.title(\"Survival Count\")\n",
    "plt.show()"
   ]
  },
  {
   "cell_type": "code",
   "execution_count": 102,
   "id": "e6fb752d",
   "metadata": {},
   "outputs": [
    {
     "data": {
      "image/png": "[encoded data removed]",
      "text/plain": [
       "<Figure size 800x600 with 2 Axes>"
      ]
     },
     "metadata": {},
     "output_type": "display_data"
    }
   ],
   "source": [
    "numeric_df = df.select_dtypes(include=['int64', 'float64'])\n",
    "plt.figure(figsize=(8,6))\n",
    "sns.heatmap(numeric_df.corr(), annot=True, cmap=\"coolwarm\")\n",
    "plt.title(\"Correlation Heatmap\")\n",
    "plt.show()"
   ]
  }
 ],
 "metadata": {
  "kernelspec": {
   "display_name": "Python 3",
   "language": "python",
   "name": "python3"
  },
  "language_info": {
   "codemirror_mode": {
    "name": "ipython",
    "version": 3
   },
   "file_extension": ".py",
   "mimetype": "text/x-python",
   "name": "python",
   "nbconvert_exporter": "python",
   "pygments_lexer": "ipython3",
   "version": "3.13.2"
  }
 },
 "nbformat": 4,
 "nbformat_minor": 5
}
